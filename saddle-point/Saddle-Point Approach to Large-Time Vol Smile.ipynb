{
 "cells": [
  {
   "cell_type": "markdown",
   "id": "03987c39",
   "metadata": {},
   "source": [
    "By a saddle-point approximation to Lewis equation, we derive analytic form of large-time vol smile implied from model. In this note, we outline, justify and exemplify the approach in the case of Heston/VG/CGMY/BG. From here, we inspire some parametrizations of vol smile.\n",
    "\n",
    "The approach was developed during my summer internship at Morgan Stanley.\n",
    "\n",
    "Table of Content:\n",
    "\n",
    "* [Lewis Equation](#Lewis-Equation)\n",
    "* [Saddle-Point Equation](#Saddle-Point-Equation)\n",
    "* [In a Nutshell](#In-a-Nutshell)\n",
    "* [Gaussian Approximation](#Gaussian-Approximation)\n",
    "* [Moment Expansion](#Moment-Expansion)\n",
    "* [Existence of Variance Solution](#Existence-of-Variance-Solution)\n",
    "* [Large-Time Heston Smile](#Large-Time-Heston-Smile)\n",
    "* [Large-Time VG Smile](#Large-Time-VG-Smile)\n",
    "* [Large-Time BG Smile](#Large-Time-BG-Smile)\n",
    "* [Large-Time CGMY Smile](#Large-Time-CGMY-Smile)\n",
    "* [Comments on Saddle-Point Trick](#Comments-on-Saddle-Point-Trick)\n",
    "* [References](#References)"
   ]
  },
  {
   "cell_type": "markdown",
   "id": "2ccf2f9f",
   "metadata": {},
   "source": [
    "# Lewis Equation\n",
    "\n",
    "Define log-spot $X_T=\\log(S_T/S_0)$ and log-strike $k=\\log(K/S_0)$.\n",
    "\n",
    "Lewis equation states that under characteristic function $\\phi_T(u)=Ee^{iuX_T}$, call price\n",
    "\n",
    "$$ C(S,K) = S - \\frac{\\sqrt{SK}}{2\\pi} \\int_{-\\infty}^\\infty \\frac{du}{u^2+\\frac{1}{4}} e^{-iuk} \\phi_T\\left(u-\\frac{i}{2}\\right) $$\n",
    "\n",
    "Under BS, $\\phi_T^{BS}(u) = e^{-\\frac{1}{2}u(u+i)\\sigma^2T}$. For each strike $K$, we quote $C(K)$ in $C_{BS}(K)$, thus\n",
    "\n",
    "$$ \\int_{-\\infty}^\\infty \\frac{du}{u^2+\\frac{1}{4}} e^{-iuk} \\phi_T\\left(u-\\frac{i}{2}\\right) = \\int_{-\\infty}^\\infty \\frac{du}{u^2+\\frac{1}{4}} e^{-iuk} e^{-\\frac{1}{2}\\left(u^2+\\frac{1}{4}\\right)\\sigma(k)^2T} $$\n",
    "\n",
    "where $\\sigma(k)$ is implied vol (of our interest!)."
   ]
  },
  {
   "cell_type": "markdown",
   "id": "04f7c128",
   "metadata": {},
   "source": [
    "# Saddle-Point Equation\n",
    "\n",
    "We assume characteristic function $\\phi_T(u-i/2) \\sim e^{-\\psi(u)T}$ for large $T$. \n",
    "\n",
    "Physically this says, at large time, log-spot $X_T$ evolves like a Levy process, so that time $T$ in characteristic exponent factors out. By definition, this is satisfied by all Levy processes, and some path-dependent processes that forget about its initial state over time e.g. Heston/SVJ.\n",
    "\n",
    "Define time-scaled log-strike $x=k/T$, abbreviated strike below. Substituting the large-time $\\phi_T$ into LHS we get\n",
    "\n",
    "$$ \\int_{-\\infty}^\\infty \\frac{du}{u^2+\\frac{1}{4}} e^{-(iux+\\psi(u))T} $$\n",
    "\n",
    "Now, Taylor-expand the exponent around saddle-point $\\tilde{u}$:\n",
    "\n",
    "$$ ix\\tilde{u} + ix(u-\\tilde{u}) + \\psi(\\tilde{u}) + \\psi'(\\tilde{u})(u-\\tilde{u}) + \\frac{\\psi''(\\tilde{u})}{2}(u-\\tilde{u})^2 + O(u-\\tilde{u})^3 $$\n",
    "\n",
    "Require $\\psi'(\\tilde{u}) = -ix$ (now keep in mind $\\tilde{u}=\\tilde{u}(x)$) to kill linear term, then LHS simplifies to\n",
    "\n",
    "$$ \\int_{-\\infty}^\\infty \\frac{du}{u^2+\\frac{1}{4}} e^{-(ix\\tilde{u}+\\psi(\\tilde{u}))T - \\frac{\\psi''(\\tilde{u})T}{2}(u-\\tilde{u})^2 - T \\cdot O(u-\\tilde{u})^3} \\approx \\frac{e^{-(ix\\tilde{u}+\\psi(\\tilde{u}))T}}{\\tilde{u}^2+\\frac{1}{4}} \\sqrt{\\frac{2\\pi}{\\psi''(\\tilde{u})T}} $$\n",
    "\n",
    "The approximation $e^{-(ix\\tilde{u}+\\psi(\\tilde{u}))T} \\sim \\text{Gaussian}$ is valid when (1) $ix\\tilde{u}+\\psi(\\tilde{u})$ is real (2) $\\psi''(\\tilde{u})>0$ (3) $T$ is large, because\n",
    "\n",
    "* for $u$ far away from $\\tilde{u}$ and $T$ large, $e^{- T \\cdot O(u-\\tilde{u})^3} \\rightarrow 0$ - tails flatten to zero\n",
    "* for $u$ close to $\\tilde{u}$, constant/quadratic term in $e^{-(ix\\tilde{u}+\\psi(\\tilde{u}))T - \\frac{\\psi''(\\tilde{u})}{2}(u-\\tilde{u})^2 - T \\cdot O(u-\\tilde{u})^3}$ dominate\n",
    "* thus exponential approximates a Gaussian\n",
    "\n",
    "For BS, $\\psi_{BS}(u) = \\frac{1}{2} \\left(u^2+\\frac{1}{4}\\right) v$ where $v = \\sigma^2$ and noting $\\psi'_{BS}(u) = uv$ and $\\psi''_{BS}(u) = v$, by solving $\\psi'_{BS}(\\tilde{u}) = -ix$ we get\n",
    "\n",
    "$$ \\tilde{u}_{BS} = -\\frac{ix}{v} $$\n",
    "\n",
    "Thus our saddle-point condition:\n",
    "\n",
    "$$ \\begin{aligned}\n",
    "\\frac{e^{-(ix\\tilde{u}+\\psi(\\tilde{u}))T}}{\\tilde{u}^2+\\frac{1}{4}} \\sqrt{\\frac{2\\pi}{\\psi''(\\tilde{u})T}} &\\sim \\frac{e^{-(ix\\tilde{u}_{BS}+\\psi_{BS}(\\tilde{u}_{BS}))T}}{\\tilde{u}_{BS}^2+\\frac{1}{4}} \\sqrt{\\frac{2\\pi}{\\psi''_{BS}(\\tilde{u}_{BS})T}} \\\\\n",
    "&= \\frac{e^{-\\left(\\frac{x^2}{v}+\\frac{v}{2}\\left(\\frac{1}{4}-\\left(\\frac{x}{v}\\right)^2\\right)\\right)T}}{\\frac{1}{4}-\\left(\\frac{x}{v}\\right)^2} \\sqrt{\\frac{2\\pi}{vT}} \\\\\n",
    "&\\approx 4 \\exp\\left( -\\left(\\frac{v}{8}+\\frac{x^2}{2v}\\right)T \\right) \\sqrt{\\frac{2\\pi}{vT}}\n",
    "\\end{aligned} $$\n",
    "\n",
    "Const. terms are of similar orders (dominated by $e^{-(...)T}$) and we make exponent equal:\n",
    "\n",
    "$$ \\omega(x) \\equiv ix\\tilde{u}+\\psi(\\tilde{u}) \\sim \\frac{v}{8}+\\frac{x^2}{2v} $$\n",
    "\n",
    "a quadratic equation, with solution\n",
    "\n",
    "$$ v(x) \\sim 4 \\left( \\omega(x) \\pm \\sqrt{\\omega(x)^2 - \\frac{x^2}{4}} \\right) $$\n",
    "\n",
    "Denote $|\\bar{\\omega}(x)| \\equiv \\sqrt{\\omega(x)^2 - \\frac{x^2}{4}}$, vanishing at $x_\\pm$ which solve $\\omega(x) = \\pm x/2$, chosen to fulfill $\\bar{\\omega}((x_-,x_+)) < 0$ and $\\bar{\\omega}(\\mathbb{R}\\backslash(x_-,x_+)) > 0$. Our variance smile \n",
    "\n",
    "$$ v(x) \\sim 4 (\\omega(x) - \\bar{\\omega}(x)) $$\n",
    "\n",
    "We may express large-time asymptotic characteristic function in form $e^{-\\psi(u)T}$ to reach a very wide class of model-inspired parametrizations."
   ]
  },
  {
   "cell_type": "markdown",
   "id": "7a921bb5",
   "metadata": {},
   "source": [
    "# In a Nutshell\n",
    "\n",
    "Denote time-scaled log-strike $x=k/T$ and variance $v(x)$, implied from characteristic function $\\phi_T(u)=Ee^{iuX_T}$ where $X_T=\\log(S_T/S_0)$. Our saddle-point procedure reads:\n",
    "\n",
    "1. evaluate characteristic function $\\phi_T(u-i/2) \\equiv e^{-\\psi(u)T}$ to get $\\psi(u)$\n",
    "2. compute saddle-point $\\tilde{u}$ which fulfills $\\psi'(\\tilde{u}) = -ix$\n",
    "3. evaluate $\\psi(\\tilde{u})$ thus $\\omega(x) \\equiv i\\tilde{u} \\cdot x + \\psi(\\tilde{u})$ and $|\\bar{\\omega}(x)| \\equiv \\sqrt{\\omega(x)^2 - \\frac{x^2}{4}}$\n",
    "4. full smile given by $v(x) = 4\\left( \\omega(x) - \\bar{\\omega}(x) \\right)$\n",
    "\n",
    "Readers may first head to section [Large-Time Heston Smile](#Large-Time-Heston-Smile) (and the like) to understand practical use and how $\\omega,\\bar{\\omega},v$ etc. actually look like before getting swamped by mathematical proofs below."
   ]
  },
  {
   "cell_type": "markdown",
   "id": "b37a12a7",
   "metadata": {},
   "source": [
    "# Gaussian Approximation\n",
    "\n",
    "Our large-time Gaussian approximation in Lewis equation is valid when (1) $ix\\tilde{u}+\\psi(\\tilde{u})$ is real (2) $\\psi''(\\tilde{u})>0$. We now show that these are always true from cumulant property.\n",
    "\n",
    "We first show that $i\\tilde{u}$ and $\\psi(\\tilde{u})$ are always real.\n",
    "\n",
    "In large time, recall our characteristic function\n",
    "\n",
    "$$ \\phi_T\\left(u-\\frac{i}{2}\\right) = Ee^{\\left(iu+\\frac{1}{2}\\right)X_T} = e^{-\\psi(u)T} $$\n",
    "\n",
    "thus $\\psi(u)$ is a cumulant:\n",
    "\n",
    "$$ \\psi(u) = - \\frac{1}{T} \\log Ee^{\\left(iu+\\frac{1}{2}\\right)X_T} $$\n",
    "\n",
    "Differentiating,\n",
    "\n",
    "$$ \\psi'(u) = - \\frac{1}{T} \\frac{EiX_Te^{\\left(iu+\\frac{1}{2}\\right)X_T}}{Ee^{\\left(iu+\\frac{1}{2}\\right)X_T}} $$\n",
    "\n",
    "$\\tilde{u}$ satisfies\n",
    "\n",
    "$$ \\psi'(\\tilde{u}) = - \\frac{1}{T} \\frac{EiX_Te^{\\left(i\\tilde{u}+\\frac{1}{2}\\right)X_T}}{Ee^{\\left(i\\tilde{u}+\\frac{1}{2}\\right)X_T}} = -ix $$\n",
    "\n",
    "so\n",
    "\n",
    "$$ EX_Te^{\\left(\\hat{u}+\\frac{1}{2}\\right)X_T} = k Ee^{\\left(\\hat{u}+\\frac{1}{2}\\right)X_T} $$\n",
    "\n",
    "where we define $\\hat{u} \\equiv i\\tilde{u}$. This is an equation in $\\hat{u}$ - does a real $\\hat{u}$ exist and is it unique?\n",
    "\n",
    "A more insightful form: define Esscher measure $\\mathbb{U}$ s.t.\n",
    "\n",
    "$$ \\frac{d\\mathbb{U}}{d\\mathbb{P}} = \\frac{e^{\\left(\\hat{u}+\\frac{1}{2}\\right)X_T}}{Ee^{\\left(\\hat{u}+\\frac{1}{2}\\right)X_T}} $$\n",
    "\n",
    "where $\\mathbb{P}$ is our pricing measure (we have always been working in). Then\n",
    "\n",
    "$$ E^\\mathbb{U} X_T = k $$\n",
    "\n",
    "thus $\\hat{u}(k)$ defines a measure under which expectation of log-spot is exactly log-strike. For $\\mathbb{U}$ to be a properly defined measure, $\\hat{u}$ has to be real - does it exist and is it unique?\n",
    "\n",
    "Intuitively, $\\hat{u}$ translates log-spot density - imagine Gaussian $f_{X_T}(x) \\stackrel{\\mathbb{P}}{\\sim} e^{-x^2/2}$, then under $\\mathbb{U}$, $f_{X_T}(x) \\stackrel{\\mathbb{U}}{\\sim} e^{-(x-\\hat{u})^2/2}$ and tanslation of density corresponds to translation of mean, so we can always suitably choose (solve for) $\\hat{u}$ s.t. mean exactly matches log-strike i.e unique real $\\hat{u}$ exists.\n",
    "\n",
    "Now I make rigorous why $\\hat{u}$, equivalently $\\bar{u}=\\hat{u}+1/2$, always exists and is unique. Rewrite the expectation equation as\n",
    "\n",
    "$$ k = E^\\mathbb{U} X_T = \\frac{EX_Te^{\\bar{u}X_T}}{Ee^{\\bar{u}X_T}} = \\frac{\\partial}{\\partial\\bar{u}} \\log Ee^{\\bar{u}X_T} $$\n",
    "\n",
    "This is the first derivative of cumulant (under pricing measure, not Esscher), which spans the support of $X_T \\in \\mathbb{R}$ (thus existence of at least a real root), and monotonically (thus one unique root $\\hat{u}$), as its second denvative is variance - always positive.\n",
    "\n",
    "With real $\\hat{u}$, $\\mathbb{U}$ is a property defined measure equivalent to $\\mathbb{P}$.\n",
    "\n",
    "Now,\n",
    "\n",
    "$$ \\psi(\\tilde{u}) = - \\frac{1}{T} \\log Ee^{\\left(\\hat{u}+\\frac{1}{2}\\right)X_T} \\in \\mathbb{R} $$\n",
    "\n",
    "For our saddle-point approximation to be valid, we need $\\psi''(\\tilde{u}) > 0$:\n",
    "\n",
    "$$ \\begin{aligned}\n",
    "\\psi''(\\tilde{u}) &= - \\frac{1}{T} \\left( - \\frac{EX_T^2e^{\\left(i\\tilde{u}+\\frac{1}{2}\\right)X_T}}{Ee^{\\left(i\\tilde{u}+\\frac{1}{2}\\right)X_T}} - \\frac{EiX_Te^{\\left(i\\tilde{u}+\\frac{1}{2}\\right)X_T}}{\\left(Ee^{\\left(i\\tilde{u}+\\frac{1}{2}\\right)X_T}\\right)^2} EiX_Te^{\\left(i\\tilde{u}+\\frac{1}{2}\\right)X_T} \\right) \\\\\n",
    "&= \\frac{1}{T} \\left( \\frac{EX_T^2e^{\\left(i\\tilde{u}+\\frac{1}{2}\\right)X_T}}{Ee^{\\left(i\\tilde{u}+\\frac{1}{2}\\right)X_T}} - \\left( \\frac{EX_Te^{\\left(i\\tilde{u}+\\frac{1}{2}\\right)X_T}}{Ee^{\\left(i\\tilde{u}+\\frac{1}{2}\\right)X_T}} \\right)^2 \\right) \\\\\n",
    "&= \\frac{1}{T} \\left( \\frac{EX_T^2e^{\\left(\\hat{u}+\\frac{1}{2}\\right)X_T}}{Ee^{\\left(\\hat{u}+\\frac{1}{2}\\right)X_T}} - \\left( \\frac{EX_Te^{\\left(\\hat{u}+\\frac{1}{2}\\right)X_T}}{Ee^{\\left(\\hat{u}+\\frac{1}{2}\\right)X_T}} \\right)^2 \\right) \\\\\n",
    "&= \\frac{1}{T} \\left( E^\\mathbb{U} X_T^2 - \\left( E^\\mathbb{U} X_T \\right)^2 \\right) \\\\\n",
    "&= \\frac{V^\\mathbb{U} X_T}{T}\n",
    "\\end{aligned} $$\n",
    "\n",
    "i.e. $\\psi''(\\tilde{u})$ is log-spot variance under $\\mathbb{U}$. As expected, because differentiated cumulant gives central moments.\n",
    "\n",
    "Thus as long as we can write down characteristic function, for large $T$, our saddle-point condition is always valid.\n",
    "\n",
    "We can computatonally check how large is large, say approx closed-form formula vs. FFT."
   ]
  },
  {
   "cell_type": "markdown",
   "id": "e721d760",
   "metadata": {},
   "source": [
    "# Moment Expansion\n",
    "\n",
    "Working - Aug 20...\n",
    "\n",
    "## Moment Expansion of $\\omega$\n",
    "\n",
    "## Moment Expansion of Smile $v$"
   ]
  },
  {
   "cell_type": "markdown",
   "id": "6501e55b",
   "metadata": {},
   "source": [
    "# Existence of Variance Solution\n",
    "\n",
    "Our variance $v(x)$ exists if $|\\bar{\\omega}(x)| \\equiv \\sqrt{\\omega(x)^2 - \\frac{x^2}{4}}$ is well-defined.\n",
    "\n",
    "My proposition is: $\\omega(x)$ tangentially touches $|x/2|$ at points $x_\\pm$ (small and off by a sign) but is everywhere else bounded below.\n",
    "\n",
    "Equivalently, this may be stated as: $\\omega(x) \\mp x/2$ and its derivative vanish at some $x_\\pm$ and second derivative is positive everywhere. We write\n",
    "\n",
    "$$ \\omega(x) \\equiv x \\hat{u} + \\psi(\\tilde{u}(x)) $$\n",
    "\n",
    "thus derivatives\n",
    "\n",
    "$$ \\begin{aligned}\n",
    "\\omega'(x) &= \\hat{u}(x) + x\\hat{u}'(x) + \\psi'(\\tilde{u}(x)) = \\hat{u}(x) \\\\\n",
    "\\omega''(x) &= \\hat{u}'(x) = \\frac{T}{E^\\mathbb{U}(X_T-k)^2} > 0\n",
    "\\end{aligned} $$\n",
    "\n",
    "so second derivative is everywhere positive, and\n",
    "\n",
    "$$ \\partial_x \\left( \\omega(x) \\mp x/2 \\right) = \\hat{u}(x) \\mp \\frac{1}{2} $$\n",
    "\n",
    "which vanishes at some $x_\\pm$,\n",
    "\n",
    "$$ \\hat{u}(x_\\pm) = \\pm \\frac{1}{2} $$\n",
    "\n",
    "Does such $x_\\pm$ always exist? Yes. Recall that $\\hat{u}$ is roughly the log-spot density shift (via Esscher measure $\\mathbb{U}$) s.t. expectation of log-spot $E^\\mathbb{U}X_T$, exactly matches log-strike $k$, equivalently $x$, thus $\\hat{u}$ is monotonic increasing in $x$, spanning $\\mathbb{R}$. We can always find such an $x_\\pm$ s.t. $\\hat{u}(x_\\pm)$ exactly matches $\\pm 1/2$ - smallness/sign of $\\pm 1/2$ leads to smaliness/sign of $x_\\pm$.\n",
    "\n",
    "By our moment expansion for $\\bar{u}$, for small $x$\n",
    "\n",
    "$$ \\bar{u}(x) \\approx \\bar{u}_0 + \\frac{T}{E^\\mathbb{U}X_T^2} x \\equiv \\frac{1}{2} \\pm \\frac{1}{2} $$\n",
    "\n",
    "which approximates\n",
    "\n",
    "$$ x_\\pm \\approx \\frac{E^\\mathbb{U}X_T^2}{T} \\left( \\frac{1}{2} \\pm \\frac{1}{2} - \\bar{u}_0 \\right) \\approx \\pm \\frac{E^\\mathbb{U}X_T^2}{2T} \\sim \\pm \\frac{\\sigma^2}{2} $$\n",
    "\n",
    "as $\\bar{u}_0 \\approx 1/2$, from Ito correction, and $\\sigma$ is some characteristic vol in model.\n",
    "\n",
    "To reason about this, think about BS diffusion - log-spot $X_T = -\\sigma^2T/2 + \\sigma Z_T$ and denote total var $w = \\sigma^2T$ so density $f_{X_T}(x) \\stackrel{\\mathbb{P}}{\\sim} e^{-(x+w/2)^2/2w}$. Under ATM Esscher measure\n",
    "defined by $\\bar{u}_0$, $f_{X_T}(x) \\stackrel{\\mathbb{U}}{\\sim} e^{-(x+w/2-w\\bar{u}_0)^2/2w}$. For $E^\\mathbb{U}X_T = 0$, we demand $\\bar{u}_0=1/2$ - this is exact. At-the-money, other processes may be expressed as perturbation around BS diffusion so densities near $x = 0$ behave roughly identical, so approximation $\\bar{u}_0 \\approx 1/2$ is not unreasonable.\n",
    "\n",
    "Typically, if model produces heavy left-tail, mode of log-spot density is biased to right, so we require a smaller Esscher shift to match match expectation of log-spot to zero - thus $\\bar{u}_0 < 1/2$, a negatively skewed $\\omega(k)T$.\n",
    "\n",
    "Lastly, $\\omega(x) \\mp x/2$ vanishes at $x_\\pm$ as\n",
    "\n",
    "$$ \\omega(x_\\pm) \\mp \\frac{x_\\pm}{2} = x_\\pm \\hat{u}(x_\\pm) - \\frac{1}{T} \\log Ee^{\\left(\\hat{u}(x_\\pm)+\\frac{1}{2}\\right)X_T} \\mp \\frac{x_\\pm}{2} = \\pm \\frac{x_\\pm}{2} \\mp \\frac{x_\\pm}{2} - \\frac{1}{T} \\log Ee^{\\left(\\pm\\frac{1}{2}+\\frac{1}{2}\\right)X_T} = 0 $$\n",
    "\n",
    "as $Ee^{X_T} = 1$ by martingale condition.\n",
    "\n",
    "So, $\\omega(x) \\geq |x/2|$ for all strike $x$ and $|\\bar{\\omega}(x)| \\equiv \\sqrt{\\omega(x)^2-x^2/4} \\leq \\omega(x)$. Our variance smile \n",
    "\n",
    "$$ v(x) \\sim 4 (\\omega(x) - \\bar{\\omega}(x)) $$\n",
    "\n",
    "is always well-defined (positive)."
   ]
  },
  {
   "cell_type": "markdown",
   "id": "9147bf61",
   "metadata": {},
   "source": [
    "# Large-Time Heston Smile\n",
    "\n",
    "Working - Aug 20..."
   ]
  },
  {
   "cell_type": "markdown",
   "id": "7dc554ca",
   "metadata": {},
   "source": [
    "# Large-Time VG Smile\n",
    "\n",
    "Working - Aug 20..."
   ]
  },
  {
   "cell_type": "markdown",
   "id": "81efee74",
   "metadata": {},
   "source": [
    "# Large-Time BG Smile"
   ]
  },
  {
   "cell_type": "markdown",
   "id": "1433686c",
   "metadata": {},
   "source": [
    "# Large-Time CGMY Smile"
   ]
  },
  {
   "cell_type": "markdown",
   "id": "95699481",
   "metadata": {},
   "source": [
    "# Comments on Saddle-Point Trick\n",
    "\n",
    "Working - Aug 20..."
   ]
  },
  {
   "cell_type": "markdown",
   "id": "315cceb9",
   "metadata": {},
   "source": [
    "# References\n",
    "\n",
    "* Gatheral/Jacquier, Convergence of Heston to SVI"
   ]
  },
  {
   "cell_type": "markdown",
   "id": "e308aa05",
   "metadata": {},
   "source": []
  }
 ],
 "metadata": {
  "authors": [
   {
    "name": "Frankie Yeung"
   }
  ],
  "kernelspec": {
   "display_name": "Python 3",
   "language": "python",
   "name": "python3"
  },
  "language_info": {
   "codemirror_mode": {
    "name": "ipython",
    "version": 3
   },
   "file_extension": ".py",
   "mimetype": "text/x-python",
   "name": "python",
   "nbconvert_exporter": "python",
   "pygments_lexer": "ipython3",
   "version": "3.8.8"
  },
  "title": "Saddle-Point Approach to Large-Time Vol Smile"
 },
 "nbformat": 4,
 "nbformat_minor": 5
}
