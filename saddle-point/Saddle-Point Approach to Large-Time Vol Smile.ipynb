{
 "cells": [
  {
   "cell_type": "markdown",
   "id": "aa954499",
   "metadata": {},
   "source": [
    "# Saddle-Point Approach to Large-Time Vol Smile\n",
    "\n",
    "By a saddle-point approximation to Lewis equation, we derive analytic form of large-time vol smile implied from model. In this note, we outline, justify and exemplify the approach in the case of Heston/VG/BG/CGMY. From here, we inspire some parametrizations of vol smile.\n",
    "\n",
    "Table of Content:\n",
    "\n",
    "* [Lewis Equation](Lewis-Equation)\n",
    "* [Saddle-Point Equation](Saddle-Point-Equation)\n",
    "* [In a Nutshell](In-a-Nutshell)\n",
    "* [Well-Posedness](Well-Posedness)\n",
    "* [Moment Expansion](Moment-Expansion)\n",
    "* [Large-Time Heston Smile](Large-Time-Heston-Smile)\n",
    "* [Large-Time VG Smile](Large-Time-VG-Smile)\n",
    "* [Large-Time BG Smile](Large-Time-BG-Smile)\n",
    "* [Large-Time CGMY Smile](Large-Time-CGMY-Smile)\n",
    "* [BG-Inspired Parametrization](BG-Inspired-Parametrization)"
   ]
  },
  {
   "cell_type": "markdown",
   "id": "2ccf2f9f",
   "metadata": {},
   "source": [
    "## Lewis Equation\n",
    "\n",
    "Define log-spot $X_T=\\log(S_T/S_0)$ and log-strike $k=\\log(K/S_0)$.\n",
    "\n",
    "Lewis equation states that under characteristic function $\\phi_T(u)=Ee^{iuX_T}$, call price\n",
    "\n",
    "$$ C(S,K) = S - \\frac{\\sqrt{SK}}{2\\pi} \\int_{-\\infty}^\\infty \\frac{du}{u^2+\\frac{1}{4}} e^{-iuk} \\phi_T\\left(u-\\frac{i}{2}\\right) $$\n",
    "\n",
    "Under BS, $\\phi_T^{BS}(u) = e^{-\\frac{1}{2}u(u+i)\\sigma^2T}$. For each strike $K$, we quote $C(K)$ in $C_{BS}(K)$, thus\n",
    "\n",
    "$$ \\int_{-\\infty}^\\infty \\frac{du}{u^2+\\frac{1}{4}} e^{-iuk} \\phi_T\\left(u-\\frac{i}{2}\\right) = \\int_{-\\infty}^\\infty \\frac{du}{u^2+\\frac{1}{4}} e^{-iuk} e^{-\\frac{1}{2}\\left(u^2+\\frac{1}{4}\\right)\\sigma(k)^2T} $$\n",
    "\n",
    "where $\\sigma(k)$ is implied vol (of our interest!)."
   ]
  },
  {
   "cell_type": "markdown",
   "id": "04f7c128",
   "metadata": {},
   "source": [
    "## Saddle-Point Equation\n",
    "\n",
    "We assume characteristic function $\\phi_T(u-i/2) \\sim e^{-\\psi(u)T}$ for large $T$. \n",
    "\n",
    "Physically this says, at large time, log-spot $X_T$ evolves like a Levy process, so that time $T$ in characteristic exponent factors out. By definition, this is satisfied by all Levy processes, and some path-dependent processes that forget about its initial state over time e.g. Heston/SVJ.\n",
    "\n",
    "Define time-scaled log-strike $x=k/T$, abbreviated strike below. Substituting the large-time $\\phi_T$ into LHS we get\n",
    "\n",
    "$$ \\int_{-\\infty}^\\infty \\frac{du}{u^2+\\frac{1}{4}} e^{-(iux+\\psi(u))T} $$\n",
    "\n",
    "Now, Taylor-expand the exponent around saddle-point $\\tilde{u}$:\n",
    "\n",
    "$$ ix\\tilde{u} + ix(u-\\tilde{u}) + \\psi(\\tilde{u}) + \\psi'(\\tilde{u})(u-\\tilde{u}) + \\frac{\\psi''(\\tilde{u})}{2}(u-\\tilde{u})^2 + O(u-\\tilde{u})^3 $$\n",
    "\n",
    "Require $\\psi'(\\tilde{u}) = -ix$ (now keep in mind $\\tilde{u}=\\tilde{u}(x)$) to kill linear term, then LHS simplifies to\n",
    "\n",
    "$$ \\int_{-\\infty}^\\infty \\frac{du}{u^2+\\frac{1}{4}} e^{-(ix\\tilde{u}+\\psi(\\tilde{u}))T - \\frac{\\psi''(\\tilde{u})}{2}(u-\\tilde{u})^2 - T \\cdot O(u-\\tilde{u})^3} \\approx \\frac{e^{-(ix\\tilde{u}+\\psi(\\tilde{u}))T}}{\\tilde{u}^2+\\frac{1}{4}} \\sqrt{\\frac{2\\pi}{\\psi''(\\tilde{u})T}} $$\n",
    "\n",
    "The approximation $e^{-(ix\\tilde{u}+\\psi(\\tilde{u}))T} \\sim \\text{Gaussian}$ is valid when (1) $ix\\tilde{u}+\\psi(\\tilde{u})$ is real (2) $\\psi''(\\tilde{u})>0$ (3) $T$ is large, because\n",
    "\n",
    "* for $u$ far away from $\\tilde{u}$ and $T$ large, $e^{- T \\cdot O(u-\\tilde{u})^3} \\rightarrow 0$ - tails flatten to zero\n",
    "* for $u$ close to $\\tilde{u}$, constant/quadratic term in $e^{-(ix\\tilde{u}+\\psi(\\tilde{u}))T - \\frac{\\psi''(\\tilde{u})}{2}(u-\\tilde{u})^2 - T \\cdot O(u-\\tilde{u})^3}$ dominate\n",
    "* thus exponential approximates a Gaussian\n",
    "\n",
    "For BS, $\\psi_{BS}(u) = \\frac{1}{2} \\left(u^2+\\frac{1}{4}\\right) v$ where $v = \\sigma^2$ and noting $\\psi'_{BS}(u) = uv$ and $\\psi''_{BS}(u) = v$, by solving $\\psi'_{BS}(\\tilde{u}) = -ix$ we get\n",
    "\n",
    "$$ \\tilde{u}_{BS} = -\\frac{ix}{v} $$\n",
    "\n",
    "Thus our saddle-point condition:\n",
    "\n",
    "$$ \\begin{aligned}\n",
    "\\frac{e^{-(ix\\tilde{u}+\\psi(\\tilde{u}))T}}{\\tilde{u}^2+\\frac{1}{4}} \\sqrt{\\frac{2\\pi}{\\psi''(\\tilde{u})T}} &\\sim \\frac{e^{-(ix\\tilde{u}_{BS}+\\psi_{BS}(\\tilde{u}_{BS}))T}}{\\tilde{u}_{BS}^2+\\frac{1}{4}} \\sqrt{\\frac{2\\pi}{\\psi''_{BS}(\\tilde{u}_{BS})T}} \\\\\n",
    "&= \\frac{e^{-\\left(\\frac{x^2}{v}+\\frac{v}{2}\\left(\\frac{1}{4}-\\left(\\frac{x}{v}\\right)^2\\right)\\right)T}}{\\frac{1}{4}-\\left(\\frac{x}{v}\\right)^2} \\sqrt{\\frac{2\\pi}{vT}} \\\\\n",
    "&\\approx 4 \\exp\\left( -\\left(\\frac{v}{8}+\\frac{x^2}{2v}\\right)T \\right) \\sqrt{\\frac{2\\pi}{vT}}\n",
    "\\end{aligned} $$\n",
    "\n",
    "Const. terms are of similar orders (dominated by $e^{-(...)T}$) and we make exponent equal:\n",
    "\n",
    "$$ \\omega(x) \\equiv ix\\tilde{u}+\\psi(\\tilde{u}) \\sim \\frac{v}{8}+\\frac{x^2}{2v} $$\n",
    "\n",
    "a quadratic equation, with solution\n",
    "\n",
    "$$ v(x) \\sim 4 \\left( \\omega(x) \\pm \\sqrt{\\omega(x)^2 - \\frac{x^2}{4}} \\right) $$\n",
    "\n",
    "We may express large-time asymptotic characteristic function in form $e^{-\\psi(u)T}$ to reach a very wide class of model-inspired parametrizations."
   ]
  },
  {
   "cell_type": "markdown",
   "id": "7a921bb5",
   "metadata": {},
   "source": [
    "## In a Nutshell\n",
    "\n",
    "Denote time-scaled log-strike $x=k/T$ and variance $v(x)$, implied from characteristic function $\\phi_T(u)=Ee^{iuX_T}$ where $X_T=\\log(S_T/S_0)$. Our procedure reads:\n",
    "\n",
    "1. evaluate characteristic function $\\phi_T(u-i/2) \\equiv e^{-\\psi(u)T}$ to get $\\psi(u)$\n",
    "2. compute saddle-point $\\tilde{u}$ which fulfills $\\psi'(\\tilde{u}) = -ix$\n",
    "3. evaluate $\\psi(\\tilde{u})$ thus $\\omega(x) \\equiv i\\tilde{u} \\cdot x + \\psi(\\tilde{u})$\n",
    "4. full smile given by $v(x) = 4\\left( \\omega(x) \\pm \\sqrt{\\omega(x)^2-x^2/4} \\right)$"
   ]
  },
  {
   "cell_type": "markdown",
   "id": "b37a12a7",
   "metadata": {},
   "source": [
    "## Well-Posedness\n",
    "\n",
    "Our Gaussian approximation in Lewis equation is valid when (1) $ix\\tilde{u}+\\psi(\\tilde{u})$ is real (2) $\\psi''(\\tilde{u})>0$. We now show that these are always true from cumulant property.\n",
    "\n",
    "We first show that $i\\tilde{u}$ and $\\psi(\\tilde{u})$ are always real.\n",
    "\n",
    "In large time, recall our characteristic function\n",
    "\n",
    "$$ \\phi_T\\left(u-\\frac{i}{2}\\right) = Ee^{\\left(iu+\\frac{1}{2}\\right)X_T} = e^{-\\psi(u)T} $$\n",
    "\n",
    "thus $\\psi(u)$ is a cumulant:\n",
    "\n",
    "$$ \\psi(u) = - \\frac{1}{T} \\log Ee^{\\left(iu+\\frac{1}{2}\\right)X_T} $$\n",
    "\n",
    "Differentiating,\n",
    "\n",
    "$$ \\psi'(u) = - \\frac{1}{T} \\frac{EiX_Te^{\\left(iu+\\frac{1}{2}\\right)X_T}}{Ee^{\\left(iu+\\frac{1}{2}\\right)X_T}} $$\n",
    "\n",
    "$\\tilde{u}$ satisfies\n",
    "\n",
    "$$ \\psi'(\\tilde{u}) = - \\frac{1}{T} \\frac{EiX_Te^{\\left(i\\tilde{u}+\\frac{1}{2}\\right)X_T}}{Ee^{\\left(i\\tilde{u}+\\frac{1}{2}\\right)X_T}} = -ix $$\n",
    "\n",
    "so\n",
    "\n",
    "$$ EX_Te^{\\left(\\hat{u}+\\frac{1}{2}\\right)X_T} = k Ee^{\\left(\\hat{u}+\\frac{1}{2}\\right)X_T} $$\n",
    "\n",
    "where we define $\\hat{u} \\equiv i\\tilde{u}$. This is an equation in $\\hat{u}$ - does a real $\\hat{u}$ exist and is it unique?"
   ]
  },
  {
   "cell_type": "markdown",
   "id": "e721d760",
   "metadata": {},
   "source": [
    "## Moment Expansion"
   ]
  },
  {
   "cell_type": "markdown",
   "id": "9147bf61",
   "metadata": {},
   "source": [
    "## Large-Time Heston Smile"
   ]
  },
  {
   "cell_type": "markdown",
   "id": "7dc554ca",
   "metadata": {},
   "source": [
    "## Large-Time VG Smile"
   ]
  },
  {
   "cell_type": "markdown",
   "id": "81efee74",
   "metadata": {},
   "source": [
    "## Large-Time BG Smile"
   ]
  },
  {
   "cell_type": "markdown",
   "id": "1433686c",
   "metadata": {},
   "source": [
    "## Large-Time CGMY Smile"
   ]
  },
  {
   "cell_type": "markdown",
   "id": "ca55ca05",
   "metadata": {},
   "source": [
    "## BG-Inspired Parametrization"
   ]
  },
  {
   "cell_type": "markdown",
   "id": "e308aa05",
   "metadata": {},
   "source": []
  }
 ],
 "metadata": {
  "kernelspec": {
   "display_name": "Python 3",
   "language": "python",
   "name": "python3"
  },
  "language_info": {
   "codemirror_mode": {
    "name": "ipython",
    "version": 3
   },
   "file_extension": ".py",
   "mimetype": "text/x-python",
   "name": "python",
   "nbconvert_exporter": "python",
   "pygments_lexer": "ipython3",
   "version": "3.8.8"
  }
 },
 "nbformat": 4,
 "nbformat_minor": 5
}
